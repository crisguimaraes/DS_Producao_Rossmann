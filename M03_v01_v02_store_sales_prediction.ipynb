{
 "cells": [
  {
   "cell_type": "markdown",
   "id": "b3c8002a",
   "metadata": {},
   "source": [
    " "
   ]
  },
  {
   "cell_type": "markdown",
   "id": "2429a241",
   "metadata": {
    "ExecuteTime": {
     "end_time": "2022-06-26T12:43:56.665846Z",
     "start_time": "2022-06-26T12:43:56.660060Z"
    },
    "code_folding": []
   },
   "source": [
    "# IMPORTS"
   ]
  },
  {
   "cell_type": "code",
   "execution_count": 1,
   "id": "c6d0d7e8",
   "metadata": {
    "ExecuteTime": {
     "end_time": "2022-07-03T23:19:36.067011Z",
     "start_time": "2022-07-03T23:19:30.589465Z"
    }
   },
   "outputs": [],
   "source": [
    "import pandas as pd\n",
    "import seaborn as sns\n",
    "import matplotlib.pyplot as plt\n",
    "import numpy as np\n",
    "import inflection\n",
    "import math\n",
    "\n",
    "from IPython.core.display import HTML\n",
    "from IPython.display import Image\n",
    "import datetime"
   ]
  },
  {
   "cell_type": "markdown",
   "id": "af7f4c3e",
   "metadata": {
    "code_folding": [],
    "heading_collapsed": true
   },
   "source": [
    "## Helper Functions"
   ]
  },
  {
   "cell_type": "markdown",
   "id": "5b90472c",
   "metadata": {
    "heading_collapsed": true
   },
   "source": [
    "## Loading Data"
   ]
  },
  {
   "cell_type": "code",
   "execution_count": 3,
   "id": "5a030812",
   "metadata": {
    "ExecuteTime": {
     "end_time": "2022-07-03T23:19:55.015578Z",
     "start_time": "2022-07-03T23:19:53.793382Z"
    },
    "hidden": true
   },
   "outputs": [],
   "source": [
    "df_sales_raw = pd.read_csv( 'data/train.csv', low_memory = False) #dataframe referência\n",
    "df_store_raw = pd.read_csv( 'data/store.csv', low_memory = False) #dataframe que será incorporado à referência\n",
    "\n",
    "# merge\n",
    "df_raw = pd.merge( df_sales_raw, df_store_raw, on = 'Store', how = 'left' )"
   ]
  },
  {
   "cell_type": "markdown",
   "id": "8e4a4616",
   "metadata": {},
   "source": [
    "# Passo1: DESCRIÇÃO DOS DADOS"
   ]
  },
  {
   "cell_type": "code",
   "execution_count": 4,
   "id": "ecfa9acb",
   "metadata": {
    "ExecuteTime": {
     "end_time": "2022-07-03T23:20:01.737608Z",
     "start_time": "2022-07-03T23:20:01.494133Z"
    }
   },
   "outputs": [
    {
     "data": {
      "text/html": [
       "<div>\n",
       "<style scoped>\n",
       "    .dataframe tbody tr th:only-of-type {\n",
       "        vertical-align: middle;\n",
       "    }\n",
       "\n",
       "    .dataframe tbody tr th {\n",
       "        vertical-align: top;\n",
       "    }\n",
       "\n",
       "    .dataframe thead th {\n",
       "        text-align: right;\n",
       "    }\n",
       "</style>\n",
       "<table border=\"1\" class=\"dataframe\">\n",
       "  <thead>\n",
       "    <tr style=\"text-align: right;\">\n",
       "      <th></th>\n",
       "      <th>Store</th>\n",
       "      <th>DayOfWeek</th>\n",
       "      <th>Date</th>\n",
       "      <th>Sales</th>\n",
       "      <th>Customers</th>\n",
       "      <th>Open</th>\n",
       "      <th>Promo</th>\n",
       "      <th>StateHoliday</th>\n",
       "      <th>SchoolHoliday</th>\n",
       "      <th>StoreType</th>\n",
       "      <th>Assortment</th>\n",
       "      <th>CompetitionDistance</th>\n",
       "      <th>CompetitionOpenSinceMonth</th>\n",
       "      <th>CompetitionOpenSinceYear</th>\n",
       "      <th>Promo2</th>\n",
       "      <th>Promo2SinceWeek</th>\n",
       "      <th>Promo2SinceYear</th>\n",
       "      <th>PromoInterval</th>\n",
       "    </tr>\n",
       "  </thead>\n",
       "  <tbody>\n",
       "    <tr>\n",
       "      <th>0</th>\n",
       "      <td>1</td>\n",
       "      <td>5</td>\n",
       "      <td>2015-07-31</td>\n",
       "      <td>5263</td>\n",
       "      <td>555</td>\n",
       "      <td>1</td>\n",
       "      <td>1</td>\n",
       "      <td>0</td>\n",
       "      <td>1</td>\n",
       "      <td>c</td>\n",
       "      <td>a</td>\n",
       "      <td>1270.0</td>\n",
       "      <td>9.0</td>\n",
       "      <td>2008.0</td>\n",
       "      <td>0</td>\n",
       "      <td>NaN</td>\n",
       "      <td>NaN</td>\n",
       "      <td>NaN</td>\n",
       "    </tr>\n",
       "    <tr>\n",
       "      <th>1</th>\n",
       "      <td>2</td>\n",
       "      <td>5</td>\n",
       "      <td>2015-07-31</td>\n",
       "      <td>6064</td>\n",
       "      <td>625</td>\n",
       "      <td>1</td>\n",
       "      <td>1</td>\n",
       "      <td>0</td>\n",
       "      <td>1</td>\n",
       "      <td>a</td>\n",
       "      <td>a</td>\n",
       "      <td>570.0</td>\n",
       "      <td>11.0</td>\n",
       "      <td>2007.0</td>\n",
       "      <td>1</td>\n",
       "      <td>13.0</td>\n",
       "      <td>2010.0</td>\n",
       "      <td>Jan,Apr,Jul,Oct</td>\n",
       "    </tr>\n",
       "    <tr>\n",
       "      <th>2</th>\n",
       "      <td>3</td>\n",
       "      <td>5</td>\n",
       "      <td>2015-07-31</td>\n",
       "      <td>8314</td>\n",
       "      <td>821</td>\n",
       "      <td>1</td>\n",
       "      <td>1</td>\n",
       "      <td>0</td>\n",
       "      <td>1</td>\n",
       "      <td>a</td>\n",
       "      <td>a</td>\n",
       "      <td>14130.0</td>\n",
       "      <td>12.0</td>\n",
       "      <td>2006.0</td>\n",
       "      <td>1</td>\n",
       "      <td>14.0</td>\n",
       "      <td>2011.0</td>\n",
       "      <td>Jan,Apr,Jul,Oct</td>\n",
       "    </tr>\n",
       "    <tr>\n",
       "      <th>3</th>\n",
       "      <td>4</td>\n",
       "      <td>5</td>\n",
       "      <td>2015-07-31</td>\n",
       "      <td>13995</td>\n",
       "      <td>1498</td>\n",
       "      <td>1</td>\n",
       "      <td>1</td>\n",
       "      <td>0</td>\n",
       "      <td>1</td>\n",
       "      <td>c</td>\n",
       "      <td>c</td>\n",
       "      <td>620.0</td>\n",
       "      <td>9.0</td>\n",
       "      <td>2009.0</td>\n",
       "      <td>0</td>\n",
       "      <td>NaN</td>\n",
       "      <td>NaN</td>\n",
       "      <td>NaN</td>\n",
       "    </tr>\n",
       "    <tr>\n",
       "      <th>4</th>\n",
       "      <td>5</td>\n",
       "      <td>5</td>\n",
       "      <td>2015-07-31</td>\n",
       "      <td>4822</td>\n",
       "      <td>559</td>\n",
       "      <td>1</td>\n",
       "      <td>1</td>\n",
       "      <td>0</td>\n",
       "      <td>1</td>\n",
       "      <td>a</td>\n",
       "      <td>a</td>\n",
       "      <td>29910.0</td>\n",
       "      <td>4.0</td>\n",
       "      <td>2015.0</td>\n",
       "      <td>0</td>\n",
       "      <td>NaN</td>\n",
       "      <td>NaN</td>\n",
       "      <td>NaN</td>\n",
       "    </tr>\n",
       "  </tbody>\n",
       "</table>\n",
       "</div>"
      ],
      "text/plain": [
       "   Store  DayOfWeek        Date  Sales  Customers  Open  Promo StateHoliday  \\\n",
       "0      1          5  2015-07-31   5263        555     1      1            0   \n",
       "1      2          5  2015-07-31   6064        625     1      1            0   \n",
       "2      3          5  2015-07-31   8314        821     1      1            0   \n",
       "3      4          5  2015-07-31  13995       1498     1      1            0   \n",
       "4      5          5  2015-07-31   4822        559     1      1            0   \n",
       "\n",
       "   SchoolHoliday StoreType Assortment  CompetitionDistance  \\\n",
       "0              1         c          a               1270.0   \n",
       "1              1         a          a                570.0   \n",
       "2              1         a          a              14130.0   \n",
       "3              1         c          c                620.0   \n",
       "4              1         a          a              29910.0   \n",
       "\n",
       "   CompetitionOpenSinceMonth  CompetitionOpenSinceYear  Promo2  \\\n",
       "0                        9.0                    2008.0       0   \n",
       "1                       11.0                    2007.0       1   \n",
       "2                       12.0                    2006.0       1   \n",
       "3                        9.0                    2009.0       0   \n",
       "4                        4.0                    2015.0       0   \n",
       "\n",
       "   Promo2SinceWeek  Promo2SinceYear    PromoInterval  \n",
       "0              NaN              NaN              NaN  \n",
       "1             13.0           2010.0  Jan,Apr,Jul,Oct  \n",
       "2             14.0           2011.0  Jan,Apr,Jul,Oct  \n",
       "3              NaN              NaN              NaN  \n",
       "4              NaN              NaN              NaN  "
      ]
     },
     "execution_count": 4,
     "metadata": {},
     "output_type": "execute_result"
    }
   ],
   "source": [
    "# Toda vez que mudar de seção é interessante fazer uma cópia do dataset para que, caso ocorra algum erro mais pra frente (tipo sobrescrever dados) não ser preciso rodar todo o notebook novamente.\n",
    "\n",
    "df1 = df_raw.copy()\n",
    "df1.head()"
   ]
  },
  {
   "cell_type": "markdown",
   "id": "d97776a7",
   "metadata": {
    "code_folding": [],
    "heading_collapsed": true
   },
   "source": [
    "## Rename columns"
   ]
  },
  {
   "cell_type": "markdown",
   "id": "aa99d083",
   "metadata": {
    "ExecuteTime": {
     "end_time": "2022-07-01T21:37:00.828911Z",
     "start_time": "2022-07-01T21:37:00.823694Z"
    },
    "hidden": true
   },
   "source": [
    "- É importante renomear as colunas porque você ganha velocidade no desenvolvimento, colocando nomes mais curtos. Quando vc faz o SQL e traz o dataset para uma base única, os nomes das colunas foram escritos por programadores para facilitar com eles se lembrem deles na hora de trabalhar, mas isso não necessáriamente facilita para quem trabalha com dados. \n",
    "\n",
    "- df1.columns  (#está comentado porque poderia ter sido apagado)\n",
    "\n",
    "- nesse caso, os nomes não estão ruins pq é uma base de dados do Kaggle (que já passou por uma organização. Mas os dados do mundo real não vem assim)"
   ]
  },
  {
   "cell_type": "code",
   "execution_count": 5,
   "id": "989d23b6",
   "metadata": {
    "ExecuteTime": {
     "end_time": "2022-07-03T23:20:07.667853Z",
     "start_time": "2022-07-03T23:20:07.661674Z"
    },
    "hidden": true
   },
   "outputs": [],
   "source": [
    "cols_old = ['Store', 'DayOfWeek', 'Date', 'Sales', 'Customers', 'Open', 'Promo',\n",
    "            'StateHoliday', 'SchoolHoliday', 'StoreType', 'Assortment',\n",
    "            'CompetitionDistance', 'CompetitionOpenSinceMonth',\n",
    "            'CompetitionOpenSinceYear', 'Promo2', 'Promo2SinceWeek',\n",
    "            'Promo2SinceYear', 'PromoInterval']\n",
    "snakecase = lambda x: inflection.underscore( x )\n",
    "\n",
    "cols_new = list(map( snakecase, cols_old ))\n",
    "\n",
    "# rename\n",
    "df1.columns = cols_new\n"
   ]
  },
  {
   "cell_type": "markdown",
   "id": "3f3d1d57",
   "metadata": {
    "ExecuteTime": {
     "end_time": "2022-06-26T12:54:59.188562Z",
     "start_time": "2022-06-26T12:54:59.185662Z"
    },
    "heading_collapsed": true
   },
   "source": [
    "## Data Dimensions\n"
   ]
  },
  {
   "cell_type": "code",
   "execution_count": 6,
   "id": "556c5018",
   "metadata": {
    "ExecuteTime": {
     "end_time": "2022-07-03T23:20:12.984542Z",
     "start_time": "2022-07-03T23:20:12.977713Z"
    },
    "hidden": true
   },
   "outputs": [
    {
     "name": "stdout",
     "output_type": "stream",
     "text": [
      "Number of rows: 1017209\n",
      "Number of cols: 18\n"
     ]
    }
   ],
   "source": [
    "print(f'Number of rows: {df1.shape[0]}')\n",
    "print(f'Number of cols: {df1.shape[1]}')"
   ]
  },
  {
   "cell_type": "markdown",
   "id": "80f0f16a",
   "metadata": {
    "heading_collapsed": true
   },
   "source": [
    "## Data Types"
   ]
  },
  {
   "cell_type": "code",
   "execution_count": 7,
   "id": "3168b8cb",
   "metadata": {
    "ExecuteTime": {
     "end_time": "2022-07-03T23:20:18.131660Z",
     "start_time": "2022-07-03T23:20:18.016992Z"
    },
    "hidden": true
   },
   "outputs": [
    {
     "data": {
      "text/plain": [
       "store                                    int64\n",
       "day_of_week                              int64\n",
       "date                            datetime64[ns]\n",
       "sales                                    int64\n",
       "customers                                int64\n",
       "open                                     int64\n",
       "promo                                    int64\n",
       "state_holiday                           object\n",
       "school_holiday                           int64\n",
       "store_type                              object\n",
       "assortment                              object\n",
       "competition_distance                   float64\n",
       "competition_open_since_month           float64\n",
       "competition_open_since_year            float64\n",
       "promo2                                   int64\n",
       "promo2_since_week                      float64\n",
       "promo2_since_year                      float64\n",
       "promo_interval                          object\n",
       "dtype: object"
      ]
     },
     "execution_count": 7,
     "metadata": {},
     "output_type": "execute_result"
    }
   ],
   "source": [
    "# A coluna date vem como object. Importante transformá-la para o formato de data.\n",
    "\n",
    "df1['date'] = pd.to_datetime( df1['date'] )\n",
    "df1.dtypes"
   ]
  },
  {
   "cell_type": "markdown",
   "id": "d7c11799",
   "metadata": {
    "heading_collapsed": true
   },
   "source": [
    "## Check NAs"
   ]
  },
  {
   "cell_type": "code",
   "execution_count": 8,
   "id": "c750b7e5",
   "metadata": {
    "ExecuteTime": {
     "end_time": "2022-07-03T23:20:24.259876Z",
     "start_time": "2022-07-03T23:20:23.715225Z"
    },
    "hidden": true
   },
   "outputs": [
    {
     "data": {
      "text/plain": [
       "store                                0\n",
       "day_of_week                          0\n",
       "date                                 0\n",
       "sales                                0\n",
       "customers                            0\n",
       "open                                 0\n",
       "promo                                0\n",
       "state_holiday                        0\n",
       "school_holiday                       0\n",
       "store_type                           0\n",
       "assortment                           0\n",
       "competition_distance              2642\n",
       "competition_open_since_month    323348\n",
       "competition_open_since_year     323348\n",
       "promo2                               0\n",
       "promo2_since_week               508031\n",
       "promo2_since_year               508031\n",
       "promo_interval                  508031\n",
       "dtype: int64"
      ]
     },
     "execution_count": 8,
     "metadata": {},
     "output_type": "execute_result"
    }
   ],
   "source": [
    "# Soma de todos os NAs\n",
    "\n",
    "df1.isna().sum()"
   ]
  },
  {
   "cell_type": "markdown",
   "id": "767d6246",
   "metadata": {
    "heading_collapsed": true
   },
   "source": [
    "## Fillout NA"
   ]
  },
  {
   "cell_type": "markdown",
   "id": "896b83d1",
   "metadata": {
    "ExecuteTime": {
     "end_time": "2022-06-26T19:23:35.575435Z",
     "start_time": "2022-06-26T19:23:35.572375Z"
    },
    "heading_collapsed": true,
    "hidden": true
   },
   "source": [
    "#### Existem 3 forma de lidar com os NAs\n",
    "\n",
    "    - Não fazer nada, apenas excluí-los. Vantagem: é rápido e simples. Desvantagem: perde-se muita informação;\n",
    "    - Usando algoritmos de ML que façam essa substituição baseados no comportamento da coluna; \n",
    "    - Pensando no negócio - Porque o negócio gerou esses NAs? Criar hipóteses (Meigaron recomenda)"
   ]
  },
  {
   "cell_type": "markdown",
   "id": "e203d844",
   "metadata": {
    "heading_collapsed": true,
    "hidden": true
   },
   "source": [
    "#### competition_distance (distance in meters to the nearest competitor store)\n",
    "\n",
    "    Assumption: Se a coluna está vazia pode ser porque não tem um competidor próximo ou porque eleestá tão longe que é como se não existisse competição. Vamos assumir que que quando está NA é pq o competidor está tão longe que é como se ele não existisse. Para isso, vamos preencher os NAs com uma distância maior que a distância máxima encontrada na coluna ('75860.0')."
   ]
  },
  {
   "cell_type": "code",
   "execution_count": 9,
   "id": "9d5d4682",
   "metadata": {
    "ExecuteTime": {
     "end_time": "2022-07-03T23:20:33.252559Z",
     "start_time": "2022-07-03T23:20:32.950755Z"
    },
    "hidden": true
   },
   "outputs": [],
   "source": [
    "df1['competition_distance'] = df1['competition_distance'].apply( lambda x: 200000.0 if math.isnan(x) else x )"
   ]
  },
  {
   "cell_type": "markdown",
   "id": "7e2b3e7e",
   "metadata": {
    "ExecuteTime": {
     "end_time": "2022-06-26T19:29:18.097375Z",
     "start_time": "2022-06-26T19:29:18.089499Z"
    },
    "heading_collapsed": true,
    "hidden": true
   },
   "source": [
    "#### competition_open_since_month/year (gives the approximate year and month of the time the nearest competitor was opened)\n",
    "\n",
    "    Assumption: Existem 2 razões para essa coluna estar vazia: \n",
    "    - 1: a loja não tem um competidor mais próximo \n",
    "    \n",
    "    - 2: a loja tem um competidor mais próximo mas a gente não sabe quando ele abriu. Se a competition_open_since_month for NA vamos copiar a data da venda pra essa coluna. Vamos manter essa coluna, pelo menos por enquanto, porque lá na frente ela pode ser necessária para explicar uma queda nas vendas (ocasionada pelo aparecimento de competidor)"
   ]
  },
  {
   "cell_type": "code",
   "execution_count": 10,
   "id": "67f6760e",
   "metadata": {
    "ExecuteTime": {
     "end_time": "2022-07-03T23:21:05.446824Z",
     "start_time": "2022-07-03T23:20:37.614649Z"
    },
    "code_folding": [],
    "hidden": true
   },
   "outputs": [],
   "source": [
    "# usa axis = 1 para falar que é pra fazer nas colunas\n",
    "\n",
    "df1['competition_open_since_month'] = df1[['date', 'competition_open_since_month']].apply( lambda x: x['date'].month if math.isnan( x['competition_open_since_month']) else x['competition_open_since_month'], axis = 1 )\n",
    "\n",
    "df1['competition_open_since_year'] = df1[['date', 'competition_open_since_year']].apply( lambda x: x['date'].year if math.isnan( x['competition_open_since_year']) else x['competition_open_since_year'], axis = 1 )"
   ]
  },
  {
   "cell_type": "markdown",
   "id": "08912fb0",
   "metadata": {
    "ExecuteTime": {
     "end_time": "2022-06-26T19:54:28.731115Z",
     "start_time": "2022-06-26T19:54:28.714178Z"
    },
    "heading_collapsed": true,
    "hidden": true
   },
   "source": [
    "#### promo2_since_week/year (describes the year and calendar week when the store started participating in Promo2 - Promo2 is a continuing and consecutive promotion for some stores: 0 = store is not participating, 1 = store is participating)\n",
    "\n",
    "    Assumption: se os dados forem NAs quer dizer que a loja decidiu não participar dessa promoção. Substituir o NA pelo valor da data da venda naquela linha"
   ]
  },
  {
   "cell_type": "code",
   "execution_count": 11,
   "id": "f6bd6c9f",
   "metadata": {
    "ExecuteTime": {
     "end_time": "2022-07-03T23:21:57.027209Z",
     "start_time": "2022-07-03T23:21:27.549358Z"
    },
    "hidden": true
   },
   "outputs": [],
   "source": [
    "df1['promo2_since_week'] = df1[['date', 'promo2_since_week']].apply( lambda x: x['date'].week if math.isnan( x['promo2_since_week']) else x['promo2_since_week'], axis = 1 )\n",
    "\n",
    "df1['promo2_since_year'] = df1[['date', 'promo2_since_year']].apply( lambda x: x['date'].year if math.isnan( x['promo2_since_year']) else x['promo2_since_year'], axis = 1 )"
   ]
  },
  {
   "cell_type": "markdown",
   "id": "39047526",
   "metadata": {
    "ExecuteTime": {
     "end_time": "2022-06-26T19:21:49.509750Z",
     "start_time": "2022-06-26T19:21:49.182689Z"
    },
    "heading_collapsed": true,
    "hidden": true
   },
   "source": [
    "#### promo_interval (describes the consecutive intervals Promo2 is started, naming the months the promotion is started anew. E.g. \"Feb,May,Aug,Nov\" means each round starts in February, May, August, November of any given year for that store)\n",
    "\n",
    "    Assumption: Fazer um split dessa coluna e colocar os meses dentro de uma lista. Se a minha data estiver dentro dessa lista, criar uma coluna auxiliar falando que a promoção está ativa. \n",
    "                  "
   ]
  },
  {
   "cell_type": "code",
   "execution_count": 12,
   "id": "dd676159",
   "metadata": {
    "ExecuteTime": {
     "end_time": "2022-07-03T23:22:17.951681Z",
     "start_time": "2022-07-03T23:22:04.568803Z"
    },
    "hidden": true
   },
   "outputs": [],
   "source": [
    "# criar coluna auxiliar\n",
    "month_map = {1 : 'Jan', 2 : 'Feb', 3 : 'Mar', 4 : 'Apr', 5 : 'May', 6 : 'Jun', 7 : 'Jul', 8 : 'Aug', 9 : 'Sept', 10 : 'Oct', 11 : 'Nov', 12 : 'Dec'}\n",
    "\n",
    "df1['promo_interval'].fillna(0, inplace = True)\n",
    "\n",
    "df1['month_map'] = df1['date'].dt.month.map( month_map )\n",
    "\n",
    "df1['is_promo'] = df1[['promo_interval', 'month_map']].apply(lambda x: 0 if x['promo_interval'] == 0 else 1 if x['month_map'] in x['promo_interval'].split(',') else 0, axis=1)"
   ]
  },
  {
   "cell_type": "code",
   "execution_count": 13,
   "id": "b76443aa",
   "metadata": {
    "ExecuteTime": {
     "end_time": "2022-07-03T23:22:22.031720Z",
     "start_time": "2022-07-03T23:22:21.397292Z"
    },
    "hidden": true
   },
   "outputs": [
    {
     "data": {
      "text/plain": [
       "store                           0\n",
       "day_of_week                     0\n",
       "date                            0\n",
       "sales                           0\n",
       "customers                       0\n",
       "open                            0\n",
       "promo                           0\n",
       "state_holiday                   0\n",
       "school_holiday                  0\n",
       "store_type                      0\n",
       "assortment                      0\n",
       "competition_distance            0\n",
       "competition_open_since_month    0\n",
       "competition_open_since_year     0\n",
       "promo2                          0\n",
       "promo2_since_week               0\n",
       "promo2_since_year               0\n",
       "promo_interval                  0\n",
       "month_map                       0\n",
       "is_promo                        0\n",
       "dtype: int64"
      ]
     },
     "execution_count": 13,
     "metadata": {},
     "output_type": "execute_result"
    }
   ],
   "source": [
    "df1.isna().sum()"
   ]
  },
  {
   "cell_type": "markdown",
   "id": "a018cab2",
   "metadata": {
    "heading_collapsed": true
   },
   "source": [
    "## Change Types"
   ]
  },
  {
   "cell_type": "markdown",
   "id": "9db09cb5",
   "metadata": {
    "heading_collapsed": true,
    "hidden": true
   },
   "source": [
    "#### É importante checar novamente os tipos das colunas toda vez que a gente faz modificações. É importante também checar coluna por coluna para ver se estão nos tipos corretos."
   ]
  },
  {
   "cell_type": "markdown",
   "id": "4ba80b12",
   "metadata": {
    "ExecuteTime": {
     "end_time": "2022-06-28T21:54:12.536066Z",
     "start_time": "2022-06-28T21:54:12.526144Z"
    },
    "hidden": true
   },
   "source": [
    "#### Mudar as colunas 'competition_open_since_month' e 'competition_open_since_year' de float para int, porque tratam do numéro do mês e do ano."
   ]
  },
  {
   "cell_type": "code",
   "execution_count": 14,
   "id": "4c315e77",
   "metadata": {
    "ExecuteTime": {
     "end_time": "2022-07-03T23:22:31.527989Z",
     "start_time": "2022-07-03T23:22:31.487626Z"
    },
    "hidden": true
   },
   "outputs": [],
   "source": [
    "df1['competition_open_since_month'] = df1['competition_open_since_month'].astype( int )\n",
    "df1['competition_open_since_year'] = df1['competition_open_since_year'].astype( int )"
   ]
  },
  {
   "cell_type": "markdown",
   "id": "c2ce04b3",
   "metadata": {
    "hidden": true
   },
   "source": [
    "#### Mudar as colunas 'promo2_since_week ' e 'promo2_since_year' de float para int, porque tratam do numéro da semana e do ano."
   ]
  },
  {
   "cell_type": "code",
   "execution_count": 15,
   "id": "4ed61795",
   "metadata": {
    "ExecuteTime": {
     "end_time": "2022-07-03T23:22:34.950682Z",
     "start_time": "2022-07-03T23:22:34.927108Z"
    },
    "hidden": true
   },
   "outputs": [],
   "source": [
    "df1['promo2_since_week'] = df1['promo2_since_week'].astype( int )\n",
    "df1['promo2_since_year'] = df1['promo2_since_year'].astype( int )"
   ]
  },
  {
   "cell_type": "markdown",
   "id": "bbfff880",
   "metadata": {},
   "source": [
    "## Descriptive Statistical"
   ]
  },
  {
   "cell_type": "markdown",
   "id": "56e77890",
   "metadata": {
    "heading_collapsed": true
   },
   "source": [
    "#### Para que serve a descrição estatística dos dados?\n",
    "    - Primeiro: pra gente ganhar conhecimento de negócio;\n",
    "    - Segundo: pra gente conseguir detectar alguns erros;\n",
    "    \n",
    "    Dentro da estatística descritiva existem 2 grandes métricas (de primeira ordem):\n",
    "    - métricas de tendência central: resumem os dados em um único número (Ex.: média e mediana);\n",
    "    - métricas de dispersão: dizem se os resultados estão concentrados ou dispersos em relação a média (variância, std, range, min, max);\n",
    "    \n",
    "    Outras duas métricas estatísticas:\n",
    "    - skewness: essencialmente mede a simetria da distribuição;\n",
    "    - kutosis: determina o peso das caudas de distribuição;"
   ]
  },
  {
   "cell_type": "markdown",
   "id": "28feb7fc",
   "metadata": {
    "heading_collapsed": true
   },
   "source": [
    "#### Antes de calcular as métricas é preciso separar o conjunto de dados em variáveis numéricas e variáveis categóricas. A estatística descritiva funciona para os dois tipos de variáveis, mas a forma como eu construo a estatística é diferente. Para separar vamos criar dois datasets: um apenas com variáveis categóricas e outro apenas com variáveis numéricas;"
   ]
  },
  {
   "cell_type": "code",
   "execution_count": 16,
   "id": "08007ec3",
   "metadata": {
    "ExecuteTime": {
     "end_time": "2022-07-03T23:22:40.900788Z",
     "start_time": "2022-07-03T23:22:40.890164Z"
    },
    "hidden": true
   },
   "outputs": [],
   "source": [
    "num_attributes = df1.select_dtypes(include=[ 'int64', 'float64'])\n",
    "cat_attributes = df1.select_dtypes(exclude=[ 'int64', 'float64', 'datetime64[ns]' ])"
   ]
  },
  {
   "cell_type": "markdown",
   "id": "fb4ce343",
   "metadata": {
    "heading_collapsed": true
   },
   "source": [
    "### Numerical Attributes"
   ]
  },
  {
   "cell_type": "code",
   "execution_count": 17,
   "id": "080d006c",
   "metadata": {
    "ExecuteTime": {
     "end_time": "2022-07-03T23:22:52.897203Z",
     "start_time": "2022-07-03T23:22:49.945394Z"
    },
    "hidden": true
   },
   "outputs": [
    {
     "data": {
      "text/html": [
       "<div>\n",
       "<style scoped>\n",
       "    .dataframe tbody tr th:only-of-type {\n",
       "        vertical-align: middle;\n",
       "    }\n",
       "\n",
       "    .dataframe tbody tr th {\n",
       "        vertical-align: top;\n",
       "    }\n",
       "\n",
       "    .dataframe thead th {\n",
       "        text-align: right;\n",
       "    }\n",
       "</style>\n",
       "<table border=\"1\" class=\"dataframe\">\n",
       "  <thead>\n",
       "    <tr style=\"text-align: right;\">\n",
       "      <th></th>\n",
       "      <th>attributes</th>\n",
       "      <th>min</th>\n",
       "      <th>max</th>\n",
       "      <th>range</th>\n",
       "      <th>mean</th>\n",
       "      <th>median</th>\n",
       "      <th>std</th>\n",
       "      <th>skew</th>\n",
       "      <th>kurtosis</th>\n",
       "    </tr>\n",
       "  </thead>\n",
       "  <tbody>\n",
       "    <tr>\n",
       "      <th>0</th>\n",
       "      <td>store</td>\n",
       "      <td>1.0</td>\n",
       "      <td>1115.0</td>\n",
       "      <td>1114.0</td>\n",
       "      <td>558.429727</td>\n",
       "      <td>558.0</td>\n",
       "      <td>321.908493</td>\n",
       "      <td>-0.000955</td>\n",
       "      <td>-1.200524</td>\n",
       "    </tr>\n",
       "    <tr>\n",
       "      <th>1</th>\n",
       "      <td>day_of_week</td>\n",
       "      <td>1.0</td>\n",
       "      <td>7.0</td>\n",
       "      <td>6.0</td>\n",
       "      <td>3.998341</td>\n",
       "      <td>4.0</td>\n",
       "      <td>1.997390</td>\n",
       "      <td>0.001593</td>\n",
       "      <td>-1.246873</td>\n",
       "    </tr>\n",
       "    <tr>\n",
       "      <th>2</th>\n",
       "      <td>sales</td>\n",
       "      <td>0.0</td>\n",
       "      <td>41551.0</td>\n",
       "      <td>41551.0</td>\n",
       "      <td>5773.818972</td>\n",
       "      <td>5744.0</td>\n",
       "      <td>3849.924283</td>\n",
       "      <td>0.641460</td>\n",
       "      <td>1.778375</td>\n",
       "    </tr>\n",
       "    <tr>\n",
       "      <th>3</th>\n",
       "      <td>customers</td>\n",
       "      <td>0.0</td>\n",
       "      <td>7388.0</td>\n",
       "      <td>7388.0</td>\n",
       "      <td>633.145946</td>\n",
       "      <td>609.0</td>\n",
       "      <td>464.411506</td>\n",
       "      <td>1.598650</td>\n",
       "      <td>7.091773</td>\n",
       "    </tr>\n",
       "    <tr>\n",
       "      <th>4</th>\n",
       "      <td>open</td>\n",
       "      <td>0.0</td>\n",
       "      <td>1.0</td>\n",
       "      <td>1.0</td>\n",
       "      <td>0.830107</td>\n",
       "      <td>1.0</td>\n",
       "      <td>0.375539</td>\n",
       "      <td>-1.758045</td>\n",
       "      <td>1.090723</td>\n",
       "    </tr>\n",
       "    <tr>\n",
       "      <th>5</th>\n",
       "      <td>promo</td>\n",
       "      <td>0.0</td>\n",
       "      <td>1.0</td>\n",
       "      <td>1.0</td>\n",
       "      <td>0.381515</td>\n",
       "      <td>0.0</td>\n",
       "      <td>0.485758</td>\n",
       "      <td>0.487838</td>\n",
       "      <td>-1.762018</td>\n",
       "    </tr>\n",
       "    <tr>\n",
       "      <th>6</th>\n",
       "      <td>school_holiday</td>\n",
       "      <td>0.0</td>\n",
       "      <td>1.0</td>\n",
       "      <td>1.0</td>\n",
       "      <td>0.178647</td>\n",
       "      <td>0.0</td>\n",
       "      <td>0.383056</td>\n",
       "      <td>1.677842</td>\n",
       "      <td>0.815154</td>\n",
       "    </tr>\n",
       "    <tr>\n",
       "      <th>7</th>\n",
       "      <td>competition_distance</td>\n",
       "      <td>20.0</td>\n",
       "      <td>200000.0</td>\n",
       "      <td>199980.0</td>\n",
       "      <td>5935.442677</td>\n",
       "      <td>2330.0</td>\n",
       "      <td>12547.646829</td>\n",
       "      <td>10.242344</td>\n",
       "      <td>147.789712</td>\n",
       "    </tr>\n",
       "    <tr>\n",
       "      <th>8</th>\n",
       "      <td>competition_open_since_month</td>\n",
       "      <td>1.0</td>\n",
       "      <td>12.0</td>\n",
       "      <td>11.0</td>\n",
       "      <td>6.786849</td>\n",
       "      <td>7.0</td>\n",
       "      <td>3.311085</td>\n",
       "      <td>-0.042076</td>\n",
       "      <td>-1.232607</td>\n",
       "    </tr>\n",
       "    <tr>\n",
       "      <th>9</th>\n",
       "      <td>competition_open_since_year</td>\n",
       "      <td>1900.0</td>\n",
       "      <td>2015.0</td>\n",
       "      <td>115.0</td>\n",
       "      <td>2010.324840</td>\n",
       "      <td>2012.0</td>\n",
       "      <td>5.515591</td>\n",
       "      <td>-7.235657</td>\n",
       "      <td>124.071304</td>\n",
       "    </tr>\n",
       "    <tr>\n",
       "      <th>10</th>\n",
       "      <td>promo2</td>\n",
       "      <td>0.0</td>\n",
       "      <td>1.0</td>\n",
       "      <td>1.0</td>\n",
       "      <td>0.500564</td>\n",
       "      <td>1.0</td>\n",
       "      <td>0.500000</td>\n",
       "      <td>-0.002255</td>\n",
       "      <td>-1.999999</td>\n",
       "    </tr>\n",
       "    <tr>\n",
       "      <th>11</th>\n",
       "      <td>promo2_since_week</td>\n",
       "      <td>1.0</td>\n",
       "      <td>52.0</td>\n",
       "      <td>51.0</td>\n",
       "      <td>23.619033</td>\n",
       "      <td>22.0</td>\n",
       "      <td>14.310057</td>\n",
       "      <td>0.178723</td>\n",
       "      <td>-1.184046</td>\n",
       "    </tr>\n",
       "    <tr>\n",
       "      <th>12</th>\n",
       "      <td>promo2_since_year</td>\n",
       "      <td>2009.0</td>\n",
       "      <td>2015.0</td>\n",
       "      <td>6.0</td>\n",
       "      <td>2012.793297</td>\n",
       "      <td>2013.0</td>\n",
       "      <td>1.662657</td>\n",
       "      <td>-0.784436</td>\n",
       "      <td>-0.210075</td>\n",
       "    </tr>\n",
       "    <tr>\n",
       "      <th>13</th>\n",
       "      <td>is_promo</td>\n",
       "      <td>0.0</td>\n",
       "      <td>1.0</td>\n",
       "      <td>1.0</td>\n",
       "      <td>0.171835</td>\n",
       "      <td>0.0</td>\n",
       "      <td>0.377237</td>\n",
       "      <td>1.739838</td>\n",
       "      <td>1.027039</td>\n",
       "    </tr>\n",
       "  </tbody>\n",
       "</table>\n",
       "</div>"
      ],
      "text/plain": [
       "                      attributes     min       max     range         mean  \\\n",
       "0                          store     1.0    1115.0    1114.0   558.429727   \n",
       "1                    day_of_week     1.0       7.0       6.0     3.998341   \n",
       "2                          sales     0.0   41551.0   41551.0  5773.818972   \n",
       "3                      customers     0.0    7388.0    7388.0   633.145946   \n",
       "4                           open     0.0       1.0       1.0     0.830107   \n",
       "5                          promo     0.0       1.0       1.0     0.381515   \n",
       "6                 school_holiday     0.0       1.0       1.0     0.178647   \n",
       "7           competition_distance    20.0  200000.0  199980.0  5935.442677   \n",
       "8   competition_open_since_month     1.0      12.0      11.0     6.786849   \n",
       "9    competition_open_since_year  1900.0    2015.0     115.0  2010.324840   \n",
       "10                        promo2     0.0       1.0       1.0     0.500564   \n",
       "11             promo2_since_week     1.0      52.0      51.0    23.619033   \n",
       "12             promo2_since_year  2009.0    2015.0       6.0  2012.793297   \n",
       "13                      is_promo     0.0       1.0       1.0     0.171835   \n",
       "\n",
       "    median           std       skew    kurtosis  \n",
       "0    558.0    321.908493  -0.000955   -1.200524  \n",
       "1      4.0      1.997390   0.001593   -1.246873  \n",
       "2   5744.0   3849.924283   0.641460    1.778375  \n",
       "3    609.0    464.411506   1.598650    7.091773  \n",
       "4      1.0      0.375539  -1.758045    1.090723  \n",
       "5      0.0      0.485758   0.487838   -1.762018  \n",
       "6      0.0      0.383056   1.677842    0.815154  \n",
       "7   2330.0  12547.646829  10.242344  147.789712  \n",
       "8      7.0      3.311085  -0.042076   -1.232607  \n",
       "9   2012.0      5.515591  -7.235657  124.071304  \n",
       "10     1.0      0.500000  -0.002255   -1.999999  \n",
       "11    22.0     14.310057   0.178723   -1.184046  \n",
       "12  2013.0      1.662657  -0.784436   -0.210075  \n",
       "13     0.0      0.377237   1.739838    1.027039  "
      ]
     },
     "execution_count": 17,
     "metadata": {},
     "output_type": "execute_result"
    }
   ],
   "source": [
    "# Central tendency - mean, median\n",
    "\n",
    "c1 = pd.DataFrame( num_attributes.apply( np.mean) ).T\n",
    "c2 = pd.DataFrame( num_attributes.apply( np.median) ).T\n",
    "\n",
    "# Dispersion - std, min, máx, range, skew, kurtosis \n",
    "d1 = pd.DataFrame( num_attributes.apply( np.std ) ).T\n",
    "d2 = pd.DataFrame( num_attributes.apply( min ) ).T\n",
    "d3 = pd.DataFrame( num_attributes.apply( max ) ).T\n",
    "d4 = pd.DataFrame( num_attributes.apply( lambda x: x.max() - x.min() ) ).T\n",
    "d5 = pd.DataFrame( num_attributes.apply( lambda x: x.skew() ) ).T\n",
    "d6 = pd.DataFrame( num_attributes.apply( lambda x: x.kurtosis() ) ).T\n",
    "\n",
    "# Concatenate\n",
    "m = pd.concat( [ d2, d3, d4, c1, c2, d1, d5, d6]).T.reset_index()\n",
    "m.columns = ['attributes','min', 'max', 'range', 'mean', 'median', 'std', 'skew', 'kurtosis']\n",
    "m"
   ]
  },
  {
   "cell_type": "code",
   "execution_count": null,
   "id": "f54a2b64",
   "metadata": {
    "ExecuteTime": {
     "end_time": "2022-07-03T18:41:07.221473Z",
     "start_time": "2022-07-03T18:41:03.500847Z"
    },
    "hidden": true
   },
   "outputs": [],
   "source": [
    "sns.displot( df1['competition_distance'])"
   ]
  },
  {
   "cell_type": "markdown",
   "id": "9387bec6",
   "metadata": {
    "heading_collapsed": true
   },
   "source": [
    "### Categorical Attributes"
   ]
  },
  {
   "cell_type": "code",
   "execution_count": 18,
   "id": "08b7abd3",
   "metadata": {
    "ExecuteTime": {
     "end_time": "2022-07-03T23:23:06.609151Z",
     "start_time": "2022-07-03T23:23:06.440075Z"
    },
    "hidden": true
   },
   "outputs": [
    {
     "data": {
      "text/plain": [
       "state_holiday      4\n",
       "store_type         4\n",
       "assortment         3\n",
       "promo_interval     4\n",
       "month_map         12\n",
       "dtype: int64"
      ]
     },
     "execution_count": 18,
     "metadata": {},
     "output_type": "execute_result"
    }
   ],
   "source": [
    "cat_attributes.apply(lambda x: x.unique().shape[0])"
   ]
  },
  {
   "cell_type": "code",
   "execution_count": 19,
   "id": "eac26d75",
   "metadata": {
    "ExecuteTime": {
     "end_time": "2022-07-03T23:23:11.055433Z",
     "start_time": "2022-07-03T23:23:10.038557Z"
    },
    "hidden": true
   },
   "outputs": [
    {
     "data": {
      "text/plain": [
       "<AxesSubplot:xlabel='assortment', ylabel='sales'>"
      ]
     },
     "execution_count": 19,
     "metadata": {},
     "output_type": "execute_result"
    },
    {
     "data": {
      "image/png": "[encoded data removed]",
      "text/plain": [
       "<Figure size 1440x360 with 3 Axes>"
      ]
     },
     "metadata": {
      "needs_background": "light"
     },
     "output_type": "display_data"
    }
   ],
   "source": [
    "aux1 = df1[(df1['state_holiday'] != '0') & (df1['sales'] >0)]\n",
    "\n",
    "plt.figure(figsize=(20,5))\n",
    "\n",
    "plt.subplot(1, 3, 1)\n",
    "sns.boxplot(x = 'state_holiday' ,y = 'sales' ,data = aux1 )\n",
    "\n",
    "plt.subplot(1, 3, 2)\n",
    "sns.boxplot(x = 'store_type' ,y = 'sales' ,data = aux1 )\n",
    "\n",
    "plt.subplot(1, 3, 3)\n",
    "sns.boxplot(x = 'assortment' ,y = 'sales' ,data = aux1 )\n"
   ]
  },
  {
   "cell_type": "markdown",
   "id": "c67416c6",
   "metadata": {},
   "source": [
    "# Passo2: FEATURE ENGINEERING"
   ]
  },
  {
   "cell_type": "code",
   "execution_count": 20,
   "id": "70f4d8ea",
   "metadata": {
    "ExecuteTime": {
     "end_time": "2022-07-03T23:23:24.423463Z",
     "start_time": "2022-07-03T23:23:24.336324Z"
    }
   },
   "outputs": [],
   "source": [
    "df2 = df1.copy()"
   ]
  },
  {
   "cell_type": "markdown",
   "id": "5ec29f54",
   "metadata": {
    "heading_collapsed": true
   },
   "source": [
    "## Mapa mental de hipóteses"
   ]
  },
  {
   "cell_type": "code",
   "execution_count": 21,
   "id": "a789691d",
   "metadata": {
    "ExecuteTime": {
     "end_time": "2022-07-03T23:23:28.379471Z",
     "start_time": "2022-07-03T23:23:28.280193Z"
    },
    "hidden": true
   },
   "outputs": [
    {
     "data": {
      "image/png": "[encoded data removed]",
      "text/plain": [
       "<IPython.core.display.Image object>"
      ]
     },
     "execution_count": 21,
     "metadata": {},
     "output_type": "execute_result"
    }
   ],
   "source": [
    "Image( 'img/mind_map_hypotesis.png' )"
   ]
  },
  {
   "cell_type": "markdown",
   "id": "fd5bdec0",
   "metadata": {},
   "source": [
    "## Criação das hipóteses"
   ]
  },
  {
   "cell_type": "markdown",
   "id": "61d2779a",
   "metadata": {
    "heading_collapsed": true
   },
   "source": [
    "### Hipóteses relacionadas a 'Lojas'"
   ]
  },
  {
   "cell_type": "markdown",
   "id": "e041f719",
   "metadata": {
    "ExecuteTime": {
     "end_time": "2022-07-03T17:29:32.244139Z",
     "start_time": "2022-07-03T17:29:32.222711Z"
    },
    "hidden": true
   },
   "source": [
    "**1.** Lojas com maior quadro de funcionários deveriam vender mais;\n",
    "\n",
    "**2.** Lojas com maior capacidade de estoque deveriam vender mais;\n",
    "\n",
    "**3.** Lojas com maior porte deveriam vender mais;\n",
    "\n",
    "**4.** Lojas com maior sortimento deveriam vender mais;\n",
    "\n",
    "**5.** Lojas com competidores mais próximos deveriam vender menos;\n",
    "\n",
    "**6.** Lojas com competidores há mais tempo deveriam vender mais;"
   ]
  },
  {
   "cell_type": "markdown",
   "id": "df6438a6",
   "metadata": {
    "heading_collapsed": true
   },
   "source": [
    "### Hipóteses relacionadas a 'Produtos'"
   ]
  },
  {
   "cell_type": "markdown",
   "id": "324e4238",
   "metadata": {
    "hidden": true
   },
   "source": [
    "**1.** Lojas que investem mais em marketing deveriam vender mais;\n",
    "\n",
    "**2.** Lojas com maior exposição de produtos deveriam vender mais;\n",
    "\n",
    "**3.** Lojas que têm preços menores nos produtos deveriam vender mais;\n",
    "\n",
    "**4.** Lojas com promoções mais agressivas (maiores descontos) deveriam vender mais; \n",
    "\n",
    "**5.** Lojas com promoções ativas por mais tempo deveriam vender mais; \n",
    "\n",
    "**6.** Lojas com mais dias de promoção deveriam vender mais;\n",
    "\n",
    "**7.** Lojas com mais promoções consecutivas deveriam vender mais;"
   ]
  },
  {
   "cell_type": "markdown",
   "id": "0fe46356",
   "metadata": {
    "heading_collapsed": true
   },
   "source": [
    "### Hipóteses relacionadas a 'Tempo'"
   ]
  },
  {
   "cell_type": "markdown",
   "id": "979c451d",
   "metadata": {
    "ExecuteTime": {
     "end_time": "2022-07-03T17:34:24.662852Z",
     "start_time": "2022-07-03T17:34:24.648830Z"
    },
    "hidden": true
   },
   "source": [
    "**1.** Lojas abertas durante o feriado de Natal deveriam vender mais;\n",
    "\n",
    "**2.** Lojas deveriam vender mais ao longo dos anos;\n",
    "\n",
    "**3.** Lojas deveriam vender mais no segundo semestre do ano;\n",
    "\n",
    "**4.** Lojas deveriam vender mais depois do dia 10 de cada mês;\n",
    "\n",
    "**5.** Lojas deveriam vender menos aos finais de semana;\n",
    "\n",
    "**6.** Lojas deveriam vender menos durante os feriados escolares;"
   ]
  },
  {
   "cell_type": "markdown",
   "id": "c9ea2aa3",
   "metadata": {
    "heading_collapsed": true
   },
   "source": [
    "## Lista final das hipóteses"
   ]
  },
  {
   "cell_type": "markdown",
   "id": "6434f355",
   "metadata": {
    "heading_collapsed": true,
    "hidden": true
   },
   "source": [
    "###### Listar aquelas para as quais eu tenho os dados:\n",
    "\n",
    "**1.** Lojas com maior sortimento deveriam vender mais;\n",
    "\n",
    "**2.** Lojas com competidores mais próximos deveriam vender menos;\n",
    "\n",
    "**3.** Lojas com competidores há mais tempo deveriam vender mais;\n",
    "\n",
    "\n",
    "**4.** Lojas com promoções ativas por mais tempo deveriam vender mais; \n",
    "\n",
    "**5.** Lojas com mais dias de promoção deveriam vender mais;\n",
    "\n",
    "**6.** Lojas com mais promoções consecutivas deveriam vender mais;\n",
    "\n",
    "\n",
    "**7.** Lojas abertas durante o feriado de Natal deveriam vender mais;\n",
    "\n",
    "**8.** Lojas deveriam vender mais ao longo dos anos;\n",
    "\n",
    "**9.** Lojas deveriam vender mais no segundo semestre do ano;\n",
    "\n",
    "**10.** Lojas deveriam vender mais depois do dia 10 de cada mês;\n",
    "\n",
    "**11.** Lojas deveriam vender menos aos finais de semana;\n",
    "\n",
    "**12.** Lojas deveriam vender menos durante os feriados escolares;\n"
   ]
  },
  {
   "cell_type": "markdown",
   "id": "b78f8562",
   "metadata": {},
   "source": [
    "## Feature Engineering"
   ]
  },
  {
   "cell_type": "code",
   "execution_count": 22,
   "id": "4b03fdbd",
   "metadata": {
    "ExecuteTime": {
     "end_time": "2022-07-03T23:23:45.752887Z",
     "start_time": "2022-07-03T23:23:40.040091Z"
    }
   },
   "outputs": [],
   "source": [
    "#year\n",
    "df2['year'] = df2['date'].dt.year\n",
    "\n",
    "#month\n",
    "df2['month'] = df2['date'].dt.month\n",
    "\n",
    "#day\n",
    "df2['day'] = df2['date'].dt.day\n",
    "\n",
    "#week of year\n",
    "df2['week_of_year'] = df2['date'].dt.isocalendar().week\n",
    "\n",
    "#year week\n",
    "df2['year_week'] = df2['date'].dt.strftime( '%Y-%W' )\n"
   ]
  },
  {
   "cell_type": "code",
   "execution_count": 23,
   "id": "bc79ab94",
   "metadata": {
    "ExecuteTime": {
     "end_time": "2022-07-03T23:24:07.287700Z",
     "start_time": "2022-07-03T23:23:50.063150Z"
    }
   },
   "outputs": [],
   "source": [
    "#competition since\n",
    "df2['competition_since'] = df2.apply(lambda x: datetime.datetime(year = x['competition_open_since_year'], month = x['competition_open_since_month'], day = 1), axis=1)"
   ]
  },
  {
   "cell_type": "code",
   "execution_count": 24,
   "id": "62a90f9e",
   "metadata": {
    "ExecuteTime": {
     "end_time": "2022-07-03T23:24:15.868041Z",
     "start_time": "2022-07-03T23:24:09.347233Z"
    }
   },
   "outputs": [],
   "source": [
    "df2['competition_time_month'] = ( (df2['date'] - df2['competition_since']) / 30).apply( lambda x: x.days).astype( int )"
   ]
  },
  {
   "cell_type": "code",
   "execution_count": 25,
   "id": "210d1768",
   "metadata": {
    "ExecuteTime": {
     "end_time": "2022-07-03T23:24:35.839301Z",
     "start_time": "2022-07-03T23:24:17.434711Z"
    }
   },
   "outputs": [],
   "source": [
    "#promo since\n",
    "\n",
    "df2['promo_since'] = df2['promo2_since_year'].astype( str ) + '-' + df2['promo2_since_week'].astype( str )\n",
    "\n",
    "df2['promo_since'] = df2['promo_since'].apply(lambda x: datetime.datetime.strptime(x + '-1', '%Y-%W-%w') - datetime.timedelta (days=7))\n",
    "\n",
    "df2['promo_time_week'] = ( (df2['date'] - df2['promo_since']) / 7).apply( lambda x: x.days).astype( int )"
   ]
  },
  {
   "cell_type": "code",
   "execution_count": 26,
   "id": "da7909be",
   "metadata": {
    "ExecuteTime": {
     "end_time": "2022-07-03T23:24:38.147451Z",
     "start_time": "2022-07-03T23:24:37.906301Z"
    }
   },
   "outputs": [],
   "source": [
    "#assortment\n",
    "\n",
    "df2['assortment'] = df2['assortment'].apply(lambda x: 'basic' if x == 'a' else 'extra' if x == 'b' else 'extended')"
   ]
  },
  {
   "cell_type": "code",
   "execution_count": 27,
   "id": "ddb5a018",
   "metadata": {
    "ExecuteTime": {
     "end_time": "2022-07-03T23:24:40.162004Z",
     "start_time": "2022-07-03T23:24:39.888163Z"
    }
   },
   "outputs": [],
   "source": [
    "#state holiday\n",
    "\n",
    "df2['state_holiday'] = df2['state_holiday'].apply(lambda x: 'public_holiday' if x == 'a' else 'easter_holiday' if x == 'b' else 'christmas' if x == 'c' else 'regular_day')"
   ]
  },
  {
   "cell_type": "code",
   "execution_count": 28,
   "id": "4ed476ca",
   "metadata": {
    "ExecuteTime": {
     "end_time": "2022-07-03T23:24:42.677764Z",
     "start_time": "2022-07-03T23:24:42.363129Z"
    }
   },
   "outputs": [
    {
     "data": {
      "text/html": [
       "<div>\n",
       "<style scoped>\n",
       "    .dataframe tbody tr th:only-of-type {\n",
       "        vertical-align: middle;\n",
       "    }\n",
       "\n",
       "    .dataframe tbody tr th {\n",
       "        vertical-align: top;\n",
       "    }\n",
       "\n",
       "    .dataframe thead th {\n",
       "        text-align: right;\n",
       "    }\n",
       "</style>\n",
       "<table border=\"1\" class=\"dataframe\">\n",
       "  <thead>\n",
       "    <tr style=\"text-align: right;\">\n",
       "      <th></th>\n",
       "      <th>579968</th>\n",
       "      <th>830403</th>\n",
       "      <th>512853</th>\n",
       "      <th>229592</th>\n",
       "      <th>351229</th>\n",
       "      <th>358511</th>\n",
       "      <th>948284</th>\n",
       "      <th>723627</th>\n",
       "      <th>750687</th>\n",
       "      <th>374893</th>\n",
       "    </tr>\n",
       "  </thead>\n",
       "  <tbody>\n",
       "    <tr>\n",
       "      <th>store</th>\n",
       "      <td>954</td>\n",
       "      <td>514</td>\n",
       "      <td>739</td>\n",
       "      <td>1018</td>\n",
       "      <td>936</td>\n",
       "      <td>698</td>\n",
       "      <td>205</td>\n",
       "      <td>778</td>\n",
       "      <td>1078</td>\n",
       "      <td>166</td>\n",
       "    </tr>\n",
       "    <tr>\n",
       "      <th>day_of_week</th>\n",
       "      <td>2</td>\n",
       "      <td>1</td>\n",
       "      <td>6</td>\n",
       "      <td>3</td>\n",
       "      <td>7</td>\n",
       "      <td>6</td>\n",
       "      <td>7</td>\n",
       "      <td>6</td>\n",
       "      <td>3</td>\n",
       "      <td>2</td>\n",
       "    </tr>\n",
       "    <tr>\n",
       "      <th>date</th>\n",
       "      <td>2014-01-28 00:00:00</td>\n",
       "      <td>2013-06-17 00:00:00</td>\n",
       "      <td>2014-03-29 00:00:00</td>\n",
       "      <td>2015-01-07 00:00:00</td>\n",
       "      <td>2014-08-31 00:00:00</td>\n",
       "      <td>2014-08-23 00:00:00</td>\n",
       "      <td>2013-03-03 00:00:00</td>\n",
       "      <td>2013-09-21 00:00:00</td>\n",
       "      <td>2013-08-28 00:00:00</td>\n",
       "      <td>2014-08-05 00:00:00</td>\n",
       "    </tr>\n",
       "    <tr>\n",
       "      <th>sales</th>\n",
       "      <td>4307</td>\n",
       "      <td>7564</td>\n",
       "      <td>8708</td>\n",
       "      <td>10292</td>\n",
       "      <td>0</td>\n",
       "      <td>14620</td>\n",
       "      <td>0</td>\n",
       "      <td>4942</td>\n",
       "      <td>6892</td>\n",
       "      <td>6199</td>\n",
       "    </tr>\n",
       "    <tr>\n",
       "      <th>customers</th>\n",
       "      <td>678</td>\n",
       "      <td>717</td>\n",
       "      <td>732</td>\n",
       "      <td>1250</td>\n",
       "      <td>0</td>\n",
       "      <td>1823</td>\n",
       "      <td>0</td>\n",
       "      <td>721</td>\n",
       "      <td>548</td>\n",
       "      <td>887</td>\n",
       "    </tr>\n",
       "    <tr>\n",
       "      <th>open</th>\n",
       "      <td>1</td>\n",
       "      <td>1</td>\n",
       "      <td>1</td>\n",
       "      <td>1</td>\n",
       "      <td>0</td>\n",
       "      <td>1</td>\n",
       "      <td>0</td>\n",
       "      <td>1</td>\n",
       "      <td>1</td>\n",
       "      <td>1</td>\n",
       "    </tr>\n",
       "    <tr>\n",
       "      <th>promo</th>\n",
       "      <td>0</td>\n",
       "      <td>1</td>\n",
       "      <td>0</td>\n",
       "      <td>1</td>\n",
       "      <td>0</td>\n",
       "      <td>0</td>\n",
       "      <td>0</td>\n",
       "      <td>0</td>\n",
       "      <td>1</td>\n",
       "      <td>1</td>\n",
       "    </tr>\n",
       "    <tr>\n",
       "      <th>state_holiday</th>\n",
       "      <td>regular_day</td>\n",
       "      <td>regular_day</td>\n",
       "      <td>regular_day</td>\n",
       "      <td>regular_day</td>\n",
       "      <td>regular_day</td>\n",
       "      <td>regular_day</td>\n",
       "      <td>regular_day</td>\n",
       "      <td>regular_day</td>\n",
       "      <td>regular_day</td>\n",
       "      <td>regular_day</td>\n",
       "    </tr>\n",
       "    <tr>\n",
       "      <th>school_holiday</th>\n",
       "      <td>0</td>\n",
       "      <td>0</td>\n",
       "      <td>0</td>\n",
       "      <td>0</td>\n",
       "      <td>0</td>\n",
       "      <td>0</td>\n",
       "      <td>0</td>\n",
       "      <td>0</td>\n",
       "      <td>1</td>\n",
       "      <td>1</td>\n",
       "    </tr>\n",
       "    <tr>\n",
       "      <th>store_type</th>\n",
       "      <td>a</td>\n",
       "      <td>c</td>\n",
       "      <td>d</td>\n",
       "      <td>c</td>\n",
       "      <td>a</td>\n",
       "      <td>a</td>\n",
       "      <td>a</td>\n",
       "      <td>a</td>\n",
       "      <td>d</td>\n",
       "      <td>a</td>\n",
       "    </tr>\n",
       "    <tr>\n",
       "      <th>assortment</th>\n",
       "      <td>basic</td>\n",
       "      <td>extended</td>\n",
       "      <td>extended</td>\n",
       "      <td>extended</td>\n",
       "      <td>basic</td>\n",
       "      <td>basic</td>\n",
       "      <td>basic</td>\n",
       "      <td>basic</td>\n",
       "      <td>extended</td>\n",
       "      <td>extended</td>\n",
       "    </tr>\n",
       "    <tr>\n",
       "      <th>competition_distance</th>\n",
       "      <td>390.0</td>\n",
       "      <td>1200.0</td>\n",
       "      <td>2770.0</td>\n",
       "      <td>140.0</td>\n",
       "      <td>580.0</td>\n",
       "      <td>1790.0</td>\n",
       "      <td>110.0</td>\n",
       "      <td>340.0</td>\n",
       "      <td>670.0</td>\n",
       "      <td>100.0</td>\n",
       "    </tr>\n",
       "    <tr>\n",
       "      <th>competition_open_since_month</th>\n",
       "      <td>2</td>\n",
       "      <td>7</td>\n",
       "      <td>6</td>\n",
       "      <td>9</td>\n",
       "      <td>2</td>\n",
       "      <td>5</td>\n",
       "      <td>12</td>\n",
       "      <td>6</td>\n",
       "      <td>8</td>\n",
       "      <td>4</td>\n",
       "    </tr>\n",
       "    <tr>\n",
       "      <th>competition_open_since_year</th>\n",
       "      <td>2013</td>\n",
       "      <td>2012</td>\n",
       "      <td>2008</td>\n",
       "      <td>2012</td>\n",
       "      <td>2008</td>\n",
       "      <td>2011</td>\n",
       "      <td>2007</td>\n",
       "      <td>2003</td>\n",
       "      <td>2013</td>\n",
       "      <td>2014</td>\n",
       "    </tr>\n",
       "    <tr>\n",
       "      <th>promo2</th>\n",
       "      <td>1</td>\n",
       "      <td>1</td>\n",
       "      <td>1</td>\n",
       "      <td>0</td>\n",
       "      <td>0</td>\n",
       "      <td>0</td>\n",
       "      <td>0</td>\n",
       "      <td>1</td>\n",
       "      <td>1</td>\n",
       "      <td>1</td>\n",
       "    </tr>\n",
       "    <tr>\n",
       "      <th>promo2_since_week</th>\n",
       "      <td>10</td>\n",
       "      <td>27</td>\n",
       "      <td>22</td>\n",
       "      <td>2</td>\n",
       "      <td>35</td>\n",
       "      <td>34</td>\n",
       "      <td>9</td>\n",
       "      <td>40</td>\n",
       "      <td>40</td>\n",
       "      <td>31</td>\n",
       "    </tr>\n",
       "    <tr>\n",
       "      <th>promo2_since_year</th>\n",
       "      <td>2014</td>\n",
       "      <td>2012</td>\n",
       "      <td>2011</td>\n",
       "      <td>2015</td>\n",
       "      <td>2014</td>\n",
       "      <td>2014</td>\n",
       "      <td>2013</td>\n",
       "      <td>2014</td>\n",
       "      <td>2011</td>\n",
       "      <td>2013</td>\n",
       "    </tr>\n",
       "    <tr>\n",
       "      <th>promo_interval</th>\n",
       "      <td>Jan,Apr,Jul,Oct</td>\n",
       "      <td>Jan,Apr,Jul,Oct</td>\n",
       "      <td>Jan,Apr,Jul,Oct</td>\n",
       "      <td>0</td>\n",
       "      <td>0</td>\n",
       "      <td>0</td>\n",
       "      <td>0</td>\n",
       "      <td>Jan,Apr,Jul,Oct</td>\n",
       "      <td>Jan,Apr,Jul,Oct</td>\n",
       "      <td>Jan,Apr,Jul,Oct</td>\n",
       "    </tr>\n",
       "    <tr>\n",
       "      <th>month_map</th>\n",
       "      <td>Jan</td>\n",
       "      <td>Jun</td>\n",
       "      <td>Mar</td>\n",
       "      <td>Jan</td>\n",
       "      <td>Aug</td>\n",
       "      <td>Aug</td>\n",
       "      <td>Mar</td>\n",
       "      <td>Sept</td>\n",
       "      <td>Aug</td>\n",
       "      <td>Aug</td>\n",
       "    </tr>\n",
       "    <tr>\n",
       "      <th>is_promo</th>\n",
       "      <td>1</td>\n",
       "      <td>0</td>\n",
       "      <td>0</td>\n",
       "      <td>0</td>\n",
       "      <td>0</td>\n",
       "      <td>0</td>\n",
       "      <td>0</td>\n",
       "      <td>0</td>\n",
       "      <td>0</td>\n",
       "      <td>0</td>\n",
       "    </tr>\n",
       "    <tr>\n",
       "      <th>year</th>\n",
       "      <td>2014</td>\n",
       "      <td>2013</td>\n",
       "      <td>2014</td>\n",
       "      <td>2015</td>\n",
       "      <td>2014</td>\n",
       "      <td>2014</td>\n",
       "      <td>2013</td>\n",
       "      <td>2013</td>\n",
       "      <td>2013</td>\n",
       "      <td>2014</td>\n",
       "    </tr>\n",
       "    <tr>\n",
       "      <th>month</th>\n",
       "      <td>1</td>\n",
       "      <td>6</td>\n",
       "      <td>3</td>\n",
       "      <td>1</td>\n",
       "      <td>8</td>\n",
       "      <td>8</td>\n",
       "      <td>3</td>\n",
       "      <td>9</td>\n",
       "      <td>8</td>\n",
       "      <td>8</td>\n",
       "    </tr>\n",
       "    <tr>\n",
       "      <th>day</th>\n",
       "      <td>28</td>\n",
       "      <td>17</td>\n",
       "      <td>29</td>\n",
       "      <td>7</td>\n",
       "      <td>31</td>\n",
       "      <td>23</td>\n",
       "      <td>3</td>\n",
       "      <td>21</td>\n",
       "      <td>28</td>\n",
       "      <td>5</td>\n",
       "    </tr>\n",
       "    <tr>\n",
       "      <th>week_of_year</th>\n",
       "      <td>5</td>\n",
       "      <td>25</td>\n",
       "      <td>13</td>\n",
       "      <td>2</td>\n",
       "      <td>35</td>\n",
       "      <td>34</td>\n",
       "      <td>9</td>\n",
       "      <td>38</td>\n",
       "      <td>35</td>\n",
       "      <td>32</td>\n",
       "    </tr>\n",
       "    <tr>\n",
       "      <th>year_week</th>\n",
       "      <td>2014-04</td>\n",
       "      <td>2013-24</td>\n",
       "      <td>2014-12</td>\n",
       "      <td>2015-01</td>\n",
       "      <td>2014-34</td>\n",
       "      <td>2014-33</td>\n",
       "      <td>2013-08</td>\n",
       "      <td>2013-37</td>\n",
       "      <td>2013-34</td>\n",
       "      <td>2014-31</td>\n",
       "    </tr>\n",
       "    <tr>\n",
       "      <th>competition_since</th>\n",
       "      <td>2013-02-01 00:00:00</td>\n",
       "      <td>2012-07-01 00:00:00</td>\n",
       "      <td>2008-06-01 00:00:00</td>\n",
       "      <td>2012-09-01 00:00:00</td>\n",
       "      <td>2008-02-01 00:00:00</td>\n",
       "      <td>2011-05-01 00:00:00</td>\n",
       "      <td>2007-12-01 00:00:00</td>\n",
       "      <td>2003-06-01 00:00:00</td>\n",
       "      <td>2013-08-01 00:00:00</td>\n",
       "      <td>2014-04-01 00:00:00</td>\n",
       "    </tr>\n",
       "    <tr>\n",
       "      <th>competition_time_month</th>\n",
       "      <td>12</td>\n",
       "      <td>11</td>\n",
       "      <td>70</td>\n",
       "      <td>28</td>\n",
       "      <td>80</td>\n",
       "      <td>40</td>\n",
       "      <td>63</td>\n",
       "      <td>125</td>\n",
       "      <td>0</td>\n",
       "      <td>4</td>\n",
       "    </tr>\n",
       "    <tr>\n",
       "      <th>promo_since</th>\n",
       "      <td>2014-03-03 00:00:00</td>\n",
       "      <td>2012-06-25 00:00:00</td>\n",
       "      <td>2011-05-23 00:00:00</td>\n",
       "      <td>2015-01-05 00:00:00</td>\n",
       "      <td>2014-08-25 00:00:00</td>\n",
       "      <td>2014-08-18 00:00:00</td>\n",
       "      <td>2013-02-25 00:00:00</td>\n",
       "      <td>2014-09-29 00:00:00</td>\n",
       "      <td>2011-09-26 00:00:00</td>\n",
       "      <td>2013-07-29 00:00:00</td>\n",
       "    </tr>\n",
       "    <tr>\n",
       "      <th>promo_time_week</th>\n",
       "      <td>-5</td>\n",
       "      <td>51</td>\n",
       "      <td>148</td>\n",
       "      <td>0</td>\n",
       "      <td>0</td>\n",
       "      <td>0</td>\n",
       "      <td>0</td>\n",
       "      <td>-54</td>\n",
       "      <td>100</td>\n",
       "      <td>53</td>\n",
       "    </tr>\n",
       "  </tbody>\n",
       "</table>\n",
       "</div>"
      ],
      "text/plain": [
       "                                           579968               830403  \\\n",
       "store                                         954                  514   \n",
       "day_of_week                                     2                    1   \n",
       "date                          2014-01-28 00:00:00  2013-06-17 00:00:00   \n",
       "sales                                        4307                 7564   \n",
       "customers                                     678                  717   \n",
       "open                                            1                    1   \n",
       "promo                                           0                    1   \n",
       "state_holiday                         regular_day          regular_day   \n",
       "school_holiday                                  0                    0   \n",
       "store_type                                      a                    c   \n",
       "assortment                                  basic             extended   \n",
       "competition_distance                        390.0               1200.0   \n",
       "competition_open_since_month                    2                    7   \n",
       "competition_open_since_year                  2013                 2012   \n",
       "promo2                                          1                    1   \n",
       "promo2_since_week                              10                   27   \n",
       "promo2_since_year                            2014                 2012   \n",
       "promo_interval                    Jan,Apr,Jul,Oct      Jan,Apr,Jul,Oct   \n",
       "month_map                                     Jan                  Jun   \n",
       "is_promo                                        1                    0   \n",
       "year                                         2014                 2013   \n",
       "month                                           1                    6   \n",
       "day                                            28                   17   \n",
       "week_of_year                                    5                   25   \n",
       "year_week                                 2014-04              2013-24   \n",
       "competition_since             2013-02-01 00:00:00  2012-07-01 00:00:00   \n",
       "competition_time_month                         12                   11   \n",
       "promo_since                   2014-03-03 00:00:00  2012-06-25 00:00:00   \n",
       "promo_time_week                                -5                   51   \n",
       "\n",
       "                                           512853               229592  \\\n",
       "store                                         739                 1018   \n",
       "day_of_week                                     6                    3   \n",
       "date                          2014-03-29 00:00:00  2015-01-07 00:00:00   \n",
       "sales                                        8708                10292   \n",
       "customers                                     732                 1250   \n",
       "open                                            1                    1   \n",
       "promo                                           0                    1   \n",
       "state_holiday                         regular_day          regular_day   \n",
       "school_holiday                                  0                    0   \n",
       "store_type                                      d                    c   \n",
       "assortment                               extended             extended   \n",
       "competition_distance                       2770.0                140.0   \n",
       "competition_open_since_month                    6                    9   \n",
       "competition_open_since_year                  2008                 2012   \n",
       "promo2                                          1                    0   \n",
       "promo2_since_week                              22                    2   \n",
       "promo2_since_year                            2011                 2015   \n",
       "promo_interval                    Jan,Apr,Jul,Oct                    0   \n",
       "month_map                                     Mar                  Jan   \n",
       "is_promo                                        0                    0   \n",
       "year                                         2014                 2015   \n",
       "month                                           3                    1   \n",
       "day                                            29                    7   \n",
       "week_of_year                                   13                    2   \n",
       "year_week                                 2014-12              2015-01   \n",
       "competition_since             2008-06-01 00:00:00  2012-09-01 00:00:00   \n",
       "competition_time_month                         70                   28   \n",
       "promo_since                   2011-05-23 00:00:00  2015-01-05 00:00:00   \n",
       "promo_time_week                               148                    0   \n",
       "\n",
       "                                           351229               358511  \\\n",
       "store                                         936                  698   \n",
       "day_of_week                                     7                    6   \n",
       "date                          2014-08-31 00:00:00  2014-08-23 00:00:00   \n",
       "sales                                           0                14620   \n",
       "customers                                       0                 1823   \n",
       "open                                            0                    1   \n",
       "promo                                           0                    0   \n",
       "state_holiday                         regular_day          regular_day   \n",
       "school_holiday                                  0                    0   \n",
       "store_type                                      a                    a   \n",
       "assortment                                  basic                basic   \n",
       "competition_distance                        580.0               1790.0   \n",
       "competition_open_since_month                    2                    5   \n",
       "competition_open_since_year                  2008                 2011   \n",
       "promo2                                          0                    0   \n",
       "promo2_since_week                              35                   34   \n",
       "promo2_since_year                            2014                 2014   \n",
       "promo_interval                                  0                    0   \n",
       "month_map                                     Aug                  Aug   \n",
       "is_promo                                        0                    0   \n",
       "year                                         2014                 2014   \n",
       "month                                           8                    8   \n",
       "day                                            31                   23   \n",
       "week_of_year                                   35                   34   \n",
       "year_week                                 2014-34              2014-33   \n",
       "competition_since             2008-02-01 00:00:00  2011-05-01 00:00:00   \n",
       "competition_time_month                         80                   40   \n",
       "promo_since                   2014-08-25 00:00:00  2014-08-18 00:00:00   \n",
       "promo_time_week                                 0                    0   \n",
       "\n",
       "                                           948284               723627  \\\n",
       "store                                         205                  778   \n",
       "day_of_week                                     7                    6   \n",
       "date                          2013-03-03 00:00:00  2013-09-21 00:00:00   \n",
       "sales                                           0                 4942   \n",
       "customers                                       0                  721   \n",
       "open                                            0                    1   \n",
       "promo                                           0                    0   \n",
       "state_holiday                         regular_day          regular_day   \n",
       "school_holiday                                  0                    0   \n",
       "store_type                                      a                    a   \n",
       "assortment                                  basic                basic   \n",
       "competition_distance                        110.0                340.0   \n",
       "competition_open_since_month                   12                    6   \n",
       "competition_open_since_year                  2007                 2003   \n",
       "promo2                                          0                    1   \n",
       "promo2_since_week                               9                   40   \n",
       "promo2_since_year                            2013                 2014   \n",
       "promo_interval                                  0      Jan,Apr,Jul,Oct   \n",
       "month_map                                     Mar                 Sept   \n",
       "is_promo                                        0                    0   \n",
       "year                                         2013                 2013   \n",
       "month                                           3                    9   \n",
       "day                                             3                   21   \n",
       "week_of_year                                    9                   38   \n",
       "year_week                                 2013-08              2013-37   \n",
       "competition_since             2007-12-01 00:00:00  2003-06-01 00:00:00   \n",
       "competition_time_month                         63                  125   \n",
       "promo_since                   2013-02-25 00:00:00  2014-09-29 00:00:00   \n",
       "promo_time_week                                 0                  -54   \n",
       "\n",
       "                                           750687               374893  \n",
       "store                                        1078                  166  \n",
       "day_of_week                                     3                    2  \n",
       "date                          2013-08-28 00:00:00  2014-08-05 00:00:00  \n",
       "sales                                        6892                 6199  \n",
       "customers                                     548                  887  \n",
       "open                                            1                    1  \n",
       "promo                                           1                    1  \n",
       "state_holiday                         regular_day          regular_day  \n",
       "school_holiday                                  1                    1  \n",
       "store_type                                      d                    a  \n",
       "assortment                               extended             extended  \n",
       "competition_distance                        670.0                100.0  \n",
       "competition_open_since_month                    8                    4  \n",
       "competition_open_since_year                  2013                 2014  \n",
       "promo2                                          1                    1  \n",
       "promo2_since_week                              40                   31  \n",
       "promo2_since_year                            2011                 2013  \n",
       "promo_interval                    Jan,Apr,Jul,Oct      Jan,Apr,Jul,Oct  \n",
       "month_map                                     Aug                  Aug  \n",
       "is_promo                                        0                    0  \n",
       "year                                         2013                 2014  \n",
       "month                                           8                    8  \n",
       "day                                            28                    5  \n",
       "week_of_year                                   35                   32  \n",
       "year_week                                 2013-34              2014-31  \n",
       "competition_since             2013-08-01 00:00:00  2014-04-01 00:00:00  \n",
       "competition_time_month                          0                    4  \n",
       "promo_since                   2011-09-26 00:00:00  2013-07-29 00:00:00  \n",
       "promo_time_week                               100                   53  "
      ]
     },
     "execution_count": 28,
     "metadata": {},
     "output_type": "execute_result"
    }
   ],
   "source": [
    "df2.sample(10).T"
   ]
  },
  {
   "cell_type": "code",
   "execution_count": null,
   "id": "8bff6a4d",
   "metadata": {},
   "outputs": [],
   "source": []
  },
  {
   "cell_type": "code",
   "execution_count": null,
   "id": "e2e31fc5",
   "metadata": {},
   "outputs": [],
   "source": []
  },
  {
   "cell_type": "code",
   "execution_count": null,
   "id": "55e1da4d",
   "metadata": {},
   "outputs": [],
   "source": []
  },
  {
   "cell_type": "code",
   "execution_count": null,
   "id": "a7c31e3a",
   "metadata": {},
   "outputs": [],
   "source": []
  },
  {
   "cell_type": "code",
   "execution_count": null,
   "id": "f79ee0a8",
   "metadata": {},
   "outputs": [],
   "source": []
  }
 ],
 "metadata": {
  "kernelspec": {
   "display_name": "Python 3 (ipykernel)",
   "language": "python",
   "name": "python3"
  },
  "language_info": {
   "codemirror_mode": {
    "name": "ipython",
    "version": 3
   },
   "file_extension": ".py",
   "mimetype": "text/x-python",
   "name": "python",
   "nbconvert_exporter": "python",
   "pygments_lexer": "ipython3",
   "version": "3.10.0"
  },
  "toc": {
   "base_numbering": 1,
   "nav_menu": {},
   "number_sections": true,
   "sideBar": true,
   "skip_h1_title": false,
   "title_cell": "Table of Contents",
   "title_sidebar": "Contents",
   "toc_cell": false,
   "toc_position": {},
   "toc_section_display": true,
   "toc_window_display": false
  },
  "varInspector": {
   "cols": {
    "lenName": 16,
    "lenType": 16,
    "lenVar": 40
   },
   "kernels_config": {
    "python": {
     "delete_cmd_postfix": "",
     "delete_cmd_prefix": "del ",
     "library": "var_list.py",
     "varRefreshCmd": "print(var_dic_list())"
    },
    "r": {
     "delete_cmd_postfix": ") ",
     "delete_cmd_prefix": "rm(",
     "library": "var_list.r",
     "varRefreshCmd": "cat(var_dic_list()) "
    }
   },
   "types_to_exclude": [
    "module",
    "function",
    "builtin_function_or_method",
    "instance",
    "_Feature"
   ],
   "window_display": false
  }
 },
 "nbformat": 4,
 "nbformat_minor": 5
}
